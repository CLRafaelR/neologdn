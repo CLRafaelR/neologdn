{
 "cells": [
  {
   "cell_type": "code",
   "execution_count": 1,
   "metadata": {
    "collapsed": false
   },
   "outputs": [
    {
     "name": "stdout",
     "output_type": "stream",
     "text": [
      "3.5.1 (default, Jan 22 2016, 08:52:08) \n",
      "[GCC 4.2.1 Compatible Apple LLVM 7.0.2 (clang-700.1.81)]\n"
     ]
    }
   ],
   "source": [
    "import sys\n",
    "print(sys.version)"
   ]
  },
  {
   "cell_type": "code",
   "execution_count": 2,
   "metadata": {
    "collapsed": false
   },
   "outputs": [
    {
     "name": "stdout",
     "output_type": "stream",
     "text": [
      "Intel(R) Core(TM) i7-3667U CPU @ 2.00GHz\n"
     ]
    }
   ],
   "source": [
    "%%bash\n",
    "sysctl -n machdep.cpu.brand_string"
   ]
  },
  {
   "cell_type": "code",
   "execution_count": 3,
   "metadata": {
    "collapsed": false
   },
   "outputs": [
    {
     "name": "stderr",
     "output_type": "stream",
     "text": [
      "  % Total    % Received % Xferd  Average Speed   Time    Time     Time  Current\n",
      "                                 Dload  Upload   Total   Spent    Left  Speed\n",
      "\r",
      "  0     0    0     0    0     0      0      0 --:--:-- --:--:-- --:--:--     0\r",
      "  9 8647k    9  833k    0     0  2440k      0  0:00:03 --:--:--  0:00:03 2437k\r",
      " 98 8647k   98 8516k    0     0  6349k      0  0:00:01  0:00:01 --:--:-- 6345k\r",
      "100 8647k  100 8647k    0     0  6397k      0  0:00:01  0:00:01 --:--:-- 6396k\n"
     ]
    }
   ],
   "source": [
    "%%bash\n",
    "curl -O http://www.rondhuit.com/download/ldcc-20140209.tar.gz\n",
    "tar xzf ldcc-20140209.tar.gz\n",
    "rm -f /tmp/ld.txt\n",
    "find /tmp/text -name \"*.txt\" -print0 | xargs -0 -I % cat %  >> /tmp/ld.txt"
   ]
  },
  {
   "cell_type": "code",
   "execution_count": 4,
   "metadata": {
    "collapsed": true
   },
   "outputs": [],
   "source": [
    "def normalize(func):\n",
    "    with open('/tmp/ld.txt') as fd:\n",
    "        for line in fd:\n",
    "            func(line)"
   ]
  },
  {
   "cell_type": "code",
   "execution_count": 5,
   "metadata": {
    "collapsed": false
   },
   "outputs": [
    {
     "name": "stdout",
     "output_type": "stream",
     "text": [
      "1 loop, best of 3: 200 ms per loop\n"
     ]
    }
   ],
   "source": [
    "def compute_overhead(x):\n",
    "    pass\n",
    "\n",
    "%timeit normalize(compute_overhead)"
   ]
  },
  {
   "cell_type": "code",
   "execution_count": 6,
   "metadata": {
    "collapsed": false
   },
   "outputs": [
    {
     "name": "stdout",
     "output_type": "stream",
     "text": [
      "1 loop, best of 3: 18.3 s per loop\n"
     ]
    }
   ],
   "source": [
    "# Sample code from\n",
    "# https://github.com/neologd/mecab-ipadic-neologd/wiki/Regexp.ja#python-written-by-hideaki-t--overlast\n",
    "import normalize_neologd\n",
    "\n",
    "%timeit normalize(normalize_neologd.normalize_neologd)"
   ]
  },
  {
   "cell_type": "code",
   "execution_count": 7,
   "metadata": {
    "collapsed": false
   },
   "outputs": [
    {
     "name": "stdout",
     "output_type": "stream",
     "text": [
      "1 loop, best of 3: 9.05 s per loop\n"
     ]
    }
   ],
   "source": [
    "import neologdn\n",
    "%timeit normalize(neologdn.normalize)"
   ]
  },
  {
   "cell_type": "code",
   "execution_count": null,
   "metadata": {
    "collapsed": true
   },
   "outputs": [],
   "source": []
  }
 ],
 "metadata": {
  "kernelspec": {
   "display_name": "Python 3",
   "language": "python",
   "name": "python3"
  },
  "language_info": {
   "codemirror_mode": {
    "name": "ipython",
    "version": 3
   },
   "file_extension": ".py",
   "mimetype": "text/x-python",
   "name": "python",
   "nbconvert_exporter": "python",
   "pygments_lexer": "ipython3",
   "version": "3.5.1"
  }
 },
 "nbformat": 4,
 "nbformat_minor": 0
}
