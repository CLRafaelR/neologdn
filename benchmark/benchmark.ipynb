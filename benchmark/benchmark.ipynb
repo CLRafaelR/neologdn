{
 "cells": [
  {
   "cell_type": "code",
   "execution_count": 1,
   "metadata": {
    "collapsed": false
   },
   "outputs": [
    {
     "name": "stdout",
     "output_type": "stream",
     "text": [
      "3.5.1 (default, Jan 22 2016, 08:52:08) \n",
      "[GCC 4.2.1 Compatible Apple LLVM 7.0.2 (clang-700.1.81)]\n"
     ]
    }
   ],
   "source": [
    "import sys\n",
    "print(sys.version)"
   ]
  },
  {
   "cell_type": "code",
   "execution_count": 2,
   "metadata": {
    "collapsed": false
   },
   "outputs": [
    {
     "name": "stdout",
     "output_type": "stream",
     "text": [
      "Intel(R) Core(TM) i7-3667U CPU @ 2.00GHz\n"
     ]
    }
   ],
   "source": [
    "%%bash\n",
    "sysctl -n machdep.cpu.brand_string"
   ]
  },
  {
   "cell_type": "code",
   "execution_count": 3,
   "metadata": {
    "collapsed": true
   },
   "outputs": [],
   "source": [
    "def normalize(func):\n",
    "    func(\"０\")\n",
    "    func(\"ﾊﾝｶｸ\")\n",
    "    func(\"o₋o\")\n",
    "    func(\"majika━\")\n",
    "    func(\"わ〰い\")\n",
    "    func(\"スーパーーーー\")\n",
    "    func(\"!#\")\n",
    "    func(\"ゼンカク　スペース\")\n",
    "    func(\"お             お\")\n",
    "    func(\"      おお\")\n",
    "    func(\"おお      \")\n",
    "    func(\"検索 エンジン 自作 入門 を 買い ました!!!\")\n",
    "    func(\"アルゴリズム C\")\n",
    "    func(\"　　　ＰＲＭＬ　　副　読　本　　　\")\n",
    "    func(\"Coding the Matrix\")\n",
    "    func(\"南アルプスの　天然水　Ｓｐａｒｋｉｎｇ　Ｌｅｍｏｎ　レモン一絞り\")\n",
    "    func(\"南アルプスの　天然水-　Ｓｐａｒｋｉｎｇ*　Ｌｅｍｏｎ+　レモン一絞り\")"
   ]
  },
  {
   "cell_type": "code",
   "execution_count": 4,
   "metadata": {
    "collapsed": false
   },
   "outputs": [
    {
     "name": "stdout",
     "output_type": "stream",
     "text": [
      "The slowest run took 16.21 times longer than the fastest. This could mean that an intermediate result is being cached.\n",
      "1000 loops, best of 3: 1.21 ms per loop\n"
     ]
    }
   ],
   "source": [
    "# Sample code from\n",
    "# https://github.com/neologd/mecab-ipadic-neologd/wiki/Regexp.ja#python-written-by-hideaki-t--overlast\n",
    "import normalize_neologd\n",
    "\n",
    "%timeit normalize(normalize_neologd.normalize_neologd)"
   ]
  },
  {
   "cell_type": "code",
   "execution_count": 5,
   "metadata": {
    "collapsed": false
   },
   "outputs": [
    {
     "name": "stdout",
     "output_type": "stream",
     "text": [
      "10000 loops, best of 3: 145 µs per loop\n"
     ]
    }
   ],
   "source": [
    "import neologdn\n",
    "%timeit normalize(neologdn.normalize)"
   ]
  },
  {
   "cell_type": "code",
   "execution_count": null,
   "metadata": {
    "collapsed": true
   },
   "outputs": [],
   "source": []
  }
 ],
 "metadata": {
  "kernelspec": {
   "display_name": "Python 3",
   "language": "python",
   "name": "python3"
  },
  "language_info": {
   "codemirror_mode": {
    "name": "ipython",
    "version": 3
   },
   "file_extension": ".py",
   "mimetype": "text/x-python",
   "name": "python",
   "nbconvert_exporter": "python",
   "pygments_lexer": "ipython3",
   "version": "3.5.1"
  }
 },
 "nbformat": 4,
 "nbformat_minor": 0
}
