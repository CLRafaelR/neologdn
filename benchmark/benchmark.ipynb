{
 "cells": [
  {
   "cell_type": "code",
   "execution_count": 25,
   "metadata": {
    "collapsed": false
   },
   "outputs": [
    {
     "name": "stdout",
     "output_type": "stream",
     "text": [
      "3.4.3 (default, May  1 2015, 19:14:18) \n",
      "[GCC 4.2.1 Compatible Apple LLVM 6.1.0 (clang-602.0.49)]\n"
     ]
    }
   ],
   "source": [
    "import sys\n",
    "print(sys.version)"
   ]
  },
  {
   "cell_type": "code",
   "execution_count": 2,
   "metadata": {
    "collapsed": false
   },
   "outputs": [
    {
     "name": "stdout",
     "output_type": "stream",
     "text": [
      "Intel(R) Core(TM) i7-3667U CPU @ 2.00GHz\n"
     ]
    }
   ],
   "source": [
    "%%bash\n",
    "sysctl -n machdep.cpu.brand_string"
   ]
  },
  {
   "cell_type": "code",
   "execution_count": 17,
   "metadata": {
    "collapsed": true
   },
   "outputs": [],
   "source": [
    "import neologdn\n",
    "import normalize_neologd\n",
    "\n",
    "def normalize(func):\n",
    "    func(\"０\")\n",
    "    func(\"ﾊﾝｶｸ\")\n",
    "    func(\"o₋o\")\n",
    "    func(\"majika━\")\n",
    "    func(\"わ〰い\")\n",
    "    func(\"スーパーーーー\")\n",
    "    func(\"!#\")\n",
    "    func(\"ゼンカク　スペース\")\n",
    "    func(\"お             お\")\n",
    "    func(\"      おお\")\n",
    "    func(\"おお      \")\n",
    "    func(\"検索 エンジン 自作 入門 を 買い ました!!!\")\n",
    "    func(\"アルゴリズム C\")\n",
    "    func(\"　　　ＰＲＭＬ　　副　読　本　　　\")\n",
    "    func(\"Coding the Matrix\")\n",
    "    func(\"南アルプスの　天然水　Ｓｐａｒｋｉｎｇ　Ｌｅｍｏｎ　レモン一絞り\")\n",
    "    func(\"南アルプスの　天然水-　Ｓｐａｒｋｉｎｇ*　Ｌｅｍｏｎ+　レモン一絞り\")"
   ]
  },
  {
   "cell_type": "code",
   "execution_count": 18,
   "metadata": {
    "collapsed": false
   },
   "outputs": [
    {
     "name": "stdout",
     "output_type": "stream",
     "text": [
      "1000 loops, best of 3: 1.18 ms per loop\n"
     ]
    }
   ],
   "source": [
    "%timeit normalize(normalize_neologd.normalize_neologd)"
   ]
  },
  {
   "cell_type": "code",
   "execution_count": 22,
   "metadata": {
    "collapsed": false
   },
   "outputs": [
    {
     "name": "stdout",
     "output_type": "stream",
     "text": [
      "10000 loops, best of 3: 135 µs per loop\n"
     ]
    }
   ],
   "source": [
    "imp.reload(neologdn)\n",
    "%timeit normalize(neologdn.normalize)"
   ]
  },
  {
   "cell_type": "code",
   "execution_count": null,
   "metadata": {
    "collapsed": true
   },
   "outputs": [],
   "source": []
  }
 ],
 "metadata": {
  "kernelspec": {
   "display_name": "Python 3",
   "language": "python",
   "name": "python3"
  },
  "language_info": {
   "codemirror_mode": {
    "name": "ipython",
    "version": 3
   },
   "file_extension": ".py",
   "mimetype": "text/x-python",
   "name": "python",
   "nbconvert_exporter": "python",
   "pygments_lexer": "ipython3",
   "version": "3.4.3"
  }
 },
 "nbformat": 4,
 "nbformat_minor": 0
}
